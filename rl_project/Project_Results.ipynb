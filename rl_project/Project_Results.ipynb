{
  "nbformat": 4,
  "nbformat_minor": 0,
  "metadata": {
    "colab": {
      "name": "Project Results.ipynb",
      "provenance": [],
      "collapsed_sections": []
    },
    "kernelspec": {
      "name": "python3",
      "display_name": "Python 3"
    },
    "language_info": {
      "name": "python"
    }
  },
  "cells": [
    {
      "cell_type": "markdown",
      "metadata": {
        "id": "2OaMA_kIxMoN"
      },
      "source": [
        "**CODE FOR SET-UP**"
      ]
    },
    {
      "cell_type": "code",
      "metadata": {
        "colab": {
          "base_uri": "https://localhost:8080/"
        },
        "id": "b_OnIGbe-F7d",
        "outputId": "a2a9c6ee-b9c5-4641-84f8-7a30d8a6b857"
      },
      "source": [
        "from google.colab import drive\n",
        "drive.mount('/content/drive')"
      ],
      "execution_count": null,
      "outputs": [
        {
          "output_type": "stream",
          "text": [
            "Mounted at /content/drive\n"
          ],
          "name": "stdout"
        }
      ]
    },
    {
      "cell_type": "code",
      "metadata": {
        "id": "GTZGtStXtLU_",
        "colab": {
          "base_uri": "https://localhost:8080/"
        },
        "outputId": "97d4d33e-c45c-46f1-e4ad-7782f029e2ec"
      },
      "source": [
        "cd drive/MyDrive/cs182_project/train-procgen/train_procgen"
      ],
      "execution_count": null,
      "outputs": [
        {
          "output_type": "stream",
          "text": [
            "/content/drive/MyDrive/cs182_project/train-procgen/train_procgen\n"
          ],
          "name": "stdout"
        }
      ]
    },
    {
      "cell_type": "code",
      "metadata": {
        "colab": {
          "base_uri": "https://localhost:8080/"
        },
        "id": "Wb5UgjFouzsh",
        "outputId": "03efb6c9-6813-48ad-95ec-762ac9796c27"
      },
      "source": [
        "ls"
      ],
      "execution_count": null,
      "outputs": [
        {
          "output_type": "stream",
          "text": [
            "constants.py   models.py            train_cnn.py            train.py\n",
            "curl_sac.py    policies.py          train_cnn_small.py      train_rad_lnlstm.py\n",
            "data_augs.py   ppo2.py              \u001b[0m\u001b[01;34mtrained\u001b[0m/                train_rad.py\n",
            "encoder.py     \u001b[01;34m__pycache__\u001b[0m/         train_impala_lnlstm.py  TransformLayer.py\n",
            "graph.py       \u001b[01;34mresults\u001b[0m/             train_impala_lstm.py    utils.py\n",
            "graph_util.py  runner.py            train_lstm.py           video.py\n",
            "__init__.py    train_cnn_lnlstm.py  train_mlp.py\n",
            "logger.py      train_cnn_lstm.py    train_nature.py\n"
          ],
          "name": "stdout"
        }
      ]
    },
    {
      "cell_type": "code",
      "metadata": {
        "id": "2j8RAt_Ouxxb"
      },
      "source": [
        "from graph_util import plot_experiment, switch_to_outer_plot\n",
        "from constants import ENV_NAMES, NAME_TO_CASE, EASY_GAME_RANGES, HARD_GAME_RANGES\n",
        "\n",
        "import csv\n",
        "import numpy as np\n",
        "import matplotlib.pyplot as plt\n",
        "import matplotlib\n",
        "from math import ceil\n",
        "\n",
        "import seaborn # sets some style parameters automatically\n",
        "\n",
        "COLORS = [(57, 106, 177), (218, 124, 48)]\n",
        "\n",
        "import argparse"
      ],
      "execution_count": null,
      "outputs": []
    },
    {
      "cell_type": "markdown",
      "metadata": {
        "id": "kJh35GaxuHay"
      },
      "source": [
        "**RUN THE NEXT 3 BLOCKS IF YOU ARE VISUALIZING A NON-RAD RUN**"
      ]
    },
    {
      "cell_type": "code",
      "metadata": {
        "id": "Yij_BHv-5Nh6",
        "colab": {
          "base_uri": "https://localhost:8080/"
        },
        "outputId": "631ed251-78db-4358-cc9e-8b8f5bb0fbaa"
      },
      "source": [
        "cd trained"
      ],
      "execution_count": null,
      "outputs": [
        {
          "output_type": "stream",
          "text": [
            "/content/drive/My Drive/cs182_project/train-procgen/train_procgen/trained\n"
          ],
          "name": "stdout"
        }
      ]
    },
    {
      "cell_type": "code",
      "metadata": {
        "colab": {
          "base_uri": "https://localhost:8080/",
          "height": 35
        },
        "id": "uuAKtwJAwvTk",
        "outputId": "4b8f1dc5-eefd-4e40-859e-639cd2fa4501"
      },
      "source": [
        "import shutil\n",
        "import os.path\n",
        "\n",
        "\n",
        "num = 1\n",
        "path = 'prog/progress' + str(num)\n",
        "target = path + '.csv'\n",
        "while os.path.exists(target):\n",
        "  num += 1\n",
        "  path = 'prog/progress' + str(num)\n",
        "  target = path + '.csv'\n",
        "\n",
        "original = r'progress.csv'\n",
        "\n",
        "shutil.copyfile(original, target)"
      ],
      "execution_count": null,
      "outputs": [
        {
          "output_type": "execute_result",
          "data": {
            "application/vnd.google.colaboratory.intrinsic+json": {
              "type": "string"
            },
            "text/plain": [
              "'prog/progress15.csv'"
            ]
          },
          "metadata": {
            "tags": []
          },
          "execution_count": 6
        }
      ]
    },
    {
      "cell_type": "code",
      "metadata": {
        "id": "wXVVBqW2u2Sp"
      },
      "source": [
        "ls"
      ],
      "execution_count": null,
      "outputs": []
    },
    {
      "cell_type": "markdown",
      "metadata": {
        "id": "jL0v8_wuuZNO"
      },
      "source": [
        "**RUN THE NEXT 4 BLOCKS FOR RAD VISUALIZATION**"
      ]
    },
    {
      "cell_type": "code",
      "metadata": {
        "colab": {
          "base_uri": "https://localhost:8080/"
        },
        "id": "5CcHwrz4vgWF",
        "outputId": "56a16108-292c-4ab8-b89d-f7d7d6444bd4"
      },
      "source": [
        "cd .."
      ],
      "execution_count": null,
      "outputs": [
        {
          "output_type": "stream",
          "text": [
            "/content/drive/MyDrive/cs182_project/train-procgen\n"
          ],
          "name": "stdout"
        }
      ]
    },
    {
      "cell_type": "code",
      "metadata": {
        "colab": {
          "base_uri": "https://localhost:8080/"
        },
        "id": "-vBpd1Vjugg_",
        "outputId": "0ebf0d17-bef2-4679-aea6-91a4be9aae8a"
      },
      "source": [
        "cd log/fruitbot/nlev_500_mode_easy"
      ],
      "execution_count": null,
      "outputs": [
        {
          "output_type": "stream",
          "text": [
            "/content/drive/MyDrive/cs182_project/train-procgen/log/fruitbot/nlev_500_mode_easy\n"
          ],
          "name": "stdout"
        }
      ]
    },
    {
      "cell_type": "code",
      "metadata": {
        "colab": {
          "base_uri": "https://localhost:8080/"
        },
        "id": "bnEOehZNtxHf",
        "outputId": "bf4cc39b-6756-4c4f-9cbc-a04239d6e08e"
      },
      "source": [
        "ls"
      ],
      "execution_count": null,
      "outputs": [
        {
          "output_type": "stream",
          "text": [
            "\u001b[0m\u001b[01;34mcrop_gray_color_jitter\u001b[0m/     \u001b[01;34mcutout_gray\u001b[0m/         \u001b[01;34mrotate_color_jitter\u001b[0m/\n",
            "\u001b[01;34mcutout_color\u001b[0m/               \u001b[01;34mcutout_rotate_flip\u001b[0m/  \u001b[01;34mrotate_flip\u001b[0m/\n",
            "\u001b[01;34mcutout_color_color_jitter\u001b[0m/  \u001b[01;34mnormal\u001b[0m/\n"
          ],
          "name": "stdout"
        }
      ]
    },
    {
      "cell_type": "markdown",
      "metadata": {
        "id": "hhKaz0sku8Gs"
      },
      "source": [
        "**GO INTO WHICH DIRECTORY RUN YOU WANT**"
      ]
    },
    {
      "cell_type": "code",
      "metadata": {
        "id": "92gm6trSu5tx"
      },
      "source": [
        "path = 'progress'\n",
        "target = 'progress.csv'"
      ],
      "execution_count": null,
      "outputs": []
    },
    {
      "cell_type": "code",
      "metadata": {
        "colab": {
          "base_uri": "https://localhost:8080/"
        },
        "id": "0O4Wo0oeP7Ub",
        "outputId": "a68774f7-2760-466d-f274-441d74e04942"
      },
      "source": [
        "cd rotate_color_jitter/try1"
      ],
      "execution_count": null,
      "outputs": [
        {
          "output_type": "stream",
          "text": [
            "/content/drive/My Drive/cs182_project/train-procgen/log/fruitbot/nlev_500_mode_easy/rotate_color_jitter/try1\n"
          ],
          "name": "stdout"
        }
      ]
    },
    {
      "cell_type": "code",
      "metadata": {
        "colab": {
          "base_uri": "https://localhost:8080/",
          "height": 35
        },
        "id": "v1h_mxXi20Gr",
        "outputId": "717eaf4e-6c88-4100-d483-89ee5e873b13"
      },
      "source": [
        "import shutil\n",
        "import os.path\n",
        "\n",
        "num = 1\n",
        "path = path + str(num)\n",
        "target = path + '.csv'\n",
        "while os.path.exists(target):\n",
        "  num += 1\n",
        "  path = 'progress' + str(num)\n",
        "  target = path + '.csv'\n",
        "\n",
        "shutil.copyfile('progress.csv', target)"
      ],
      "execution_count": null,
      "outputs": [
        {
          "output_type": "execute_result",
          "data": {
            "application/vnd.google.colaboratory.intrinsic+json": {
              "type": "string"
            },
            "text/plain": [
              "'progress1.csv'"
            ]
          },
          "metadata": {
            "tags": []
          },
          "execution_count": 10
        }
      ]
    },
    {
      "cell_type": "markdown",
      "metadata": {
        "id": "gBmRUSTlxJFc"
      },
      "source": [
        "**CODE FOR PLOTTING**"
      ]
    },
    {
      "cell_type": "code",
      "metadata": {
        "id": "qVMpJWovy9iD"
      },
      "source": [
        "def plot(path, titles=None, suffixes=[''], normalization_ranges= None, key_name='eprewmean', **kwargs):\n",
        "\n",
        "    num_envs = 1\n",
        "    will_normalize_and_reduce = normalization_ranges is not None\n",
        "\n",
        "    if will_normalize_and_reduce:\n",
        "        num_visible_plots = 1\n",
        "        f, axarr = plt.subplots()\n",
        "    else:\n",
        "        num_visible_plots = num_envs\n",
        "        dimx = dimy = ceil(np.sqrt(num_visible_plots))\n",
        "        f, axarr = plt.subplots(dimx, dimy, sharex=True)\n",
        "\n",
        "    for suffix_idx, suffix in enumerate(suffixes):\n",
        "        all_values = []\n",
        "        game_weights = [1] * num_envs\n",
        "\n",
        "        for env_idx in range(num_envs):\n",
        "            env_name = 'fruitbot'\n",
        "            label = suffix if env_idx == 0 else None # only label the first graph to avoid legend duplicates\n",
        "            print(f'loading results from {env_name}...')\n",
        "\n",
        "            if num_visible_plots == 1:\n",
        "                ax = axarr\n",
        "            else:\n",
        "                dimy = len(axarr[0])\n",
        "                ax = axarr[env_idx // dimy][env_idx % dimy]\n",
        "\n",
        "            csv_files = [path]\n",
        "            curr_ax = None if will_normalize_and_reduce else ax\n",
        "\n",
        "            raw_data = np.array([read_csv(file, key_name) for file in csv_files])\n",
        "            values = plot_values(curr_ax, raw_data, title=env_name, color_idx=suffix_idx, label=label, **kwargs)\n",
        "\n",
        "            if will_normalize_and_reduce:\n",
        "                game_range = normalization_ranges[env_name]\n",
        "                game_min = game_range[0]\n",
        "                game_max = game_range[1]\n",
        "                game_delta = game_max - game_min\n",
        "                sub_values = game_weights[env_idx] * (np.array(values) - game_min) / (game_delta)\n",
        "                all_values.append(sub_values)\n",
        "\n",
        "        if will_normalize_and_reduce:\n",
        "            normalized_data = np.sum(all_values, axis=0)\n",
        "            normalized_data = normalized_data / np.sum(game_weights)\n",
        "            title = 'Mean Normalized Score'\n",
        "            plot_values(ax, normalized_data, title=None, color_idx=suffix_idx, label=suffix, **kwargs)\n",
        "\n",
        "    if len(suffixes) > 1:\n",
        "        if num_visible_plots == 1:\n",
        "            ax.legend(loc='lower right')\n",
        "        else:\n",
        "            f.legend(loc='lower right', bbox_to_anchor=(.5, 0, .5, 1))\n",
        "\n",
        "    return f, axarr\n",
        "\n",
        "def plot_values(ax, all_values, title=None, max_x=0, label=None, **kwargs):\n",
        "    if max_x > 0:\n",
        "        all_values = all_values[...,:max_x]\n",
        "\n",
        "    if ax is not None:\n",
        "        plot_data_mean_std(ax, all_values, label=label, **kwargs)\n",
        "        ax.set_title(title)\n",
        "\n",
        "    return all_values\n",
        "\n",
        "def plot_data_mean_std(ax, data_y, color_idx=0, data_x=None, x_scale=1, smoothing=0, first_valid=0, label=None):\n",
        "    color = COLORS[color_idx]\n",
        "    hexcolor = '#%02x%02x%02x' % color\n",
        "\n",
        "    data_y = data_y[:,first_valid:]\n",
        "    nx, num_datapoint = np.shape(data_y)\n",
        "\n",
        "    if smoothing > 0:\n",
        "        for i in range(nx):\n",
        "            data_y[i,...] = ema(data_y[i,...], smoothing)\n",
        "\n",
        "    if data_x is None:\n",
        "        data_x = (np.array(range(num_datapoint)) + first_valid) * x_scale\n",
        "\n",
        "    data_mean = np.mean(data_y, axis=0)\n",
        "    data_std = np.std(data_y, axis=0, ddof=1)\n",
        "\n",
        "    ax.plot(data_x, data_mean, color=hexcolor, label=label, linestyle='solid', alpha=1, rasterized=True)\n",
        "    ax.fill_between(data_x, data_mean - data_std, data_mean + data_std, color=hexcolor, alpha=.25, linewidth=0.0, rasterized=True)\n",
        "\n",
        "def ema(data_in, smoothing=0):\n",
        "    data_out = np.zeros_like(data_in)\n",
        "    curr = np.nan\n",
        "\n",
        "    for i in range(len(data_in)):\n",
        "        x = data_in[i]\n",
        "        if np.isnan(curr):\n",
        "            curr = x\n",
        "        else:\n",
        "            curr = (1 - smoothing) * x + smoothing * curr\n",
        "\n",
        "        data_out[i] = curr\n",
        "\n",
        "    return data_out\n",
        "\n",
        "def read_csv(filename, key_name):\n",
        "    with open(filename) as csv_file:\n",
        "        csv_reader = csv.reader(csv_file, delimiter=',')\n",
        "        key_index = -1\n",
        "\n",
        "        values = []\n",
        "\n",
        "        for line_num, row in enumerate(csv_reader):\n",
        "            row = [x.lower() for x in row]\n",
        "            if line_num == 0:\n",
        "                idxs = [i for i, val in enumerate(row) if val == key_name]\n",
        "                key_index = idxs[0]\n",
        "            else:\n",
        "                values.append(row[key_index])\n",
        "\n",
        "    return np.array(values, dtype=np.float32)"
      ],
      "execution_count": null,
      "outputs": []
    },
    {
      "cell_type": "code",
      "metadata": {
        "id": "dpvE-XZ12qOH"
      },
      "source": [
        "distribution_mode = 'easy'\n",
        "restrict_training_set = True\n",
        "normalize_and_reduce = False"
      ],
      "execution_count": null,
      "outputs": []
    },
    {
      "cell_type": "code",
      "metadata": {
        "colab": {
          "base_uri": "https://localhost:8080/",
          "height": 807
        },
        "id": "I16hcirNt0dQ",
        "outputId": "81b3277b-4846-4de6-8f2d-74a807075066"
      },
      "source": [
        "params = {\n",
        "    'xtick.labelsize': 12,\n",
        "    'ytick.labelsize': 12,\n",
        "    'axes.titlesize': 16,\n",
        "    'axes.labelsize': 24,\n",
        "    'legend.fontsize': 18,\n",
        "    'figure.figsize': [9, 9]\n",
        "}\n",
        "matplotlib.rcParams.update(params)\n",
        "\n",
        "kwargs = {'smoothing': .9}\n",
        "\n",
        "\n",
        "kwargs['x_scale'] = 1 * 256 * 64 / 1e6 # num_workers * num_steps_per_rollout * num_envs_per_worker / graph_scaling\n",
        "num_train_levels = 500\n",
        "normalization_ranges = EASY_GAME_RANGES\n",
        "\n",
        "\n",
        "y_label = 'Score'\n",
        "x_label = 'Timesteps (M)'\n",
        "\n",
        "kwargs['path'] = target\n",
        "\n",
        "# We throw out the first few datapoints to give the episodic reward buffers time to fill up\n",
        "# Otherwise, there could be a short-episode bias\n",
        "kwargs['first_valid'] = 10\n",
        "\n",
        "if restrict_training_set:\n",
        "    kwargs['suffixes'] = ['train', 'test']\n",
        "\n",
        "if normalize_and_reduce:\n",
        "    kwargs['normalization_ranges'] = normalization_ranges\n",
        "    y_label = 'Mean Normalized Score'\n",
        "\n",
        "fig, axarr = plot(**kwargs)\n",
        "\n",
        "if normalize_and_reduce:\n",
        "    axarr.set_xlabel(x_label, labelpad=20)\n",
        "    axarr.set_ylabel(y_label, labelpad=20)\n",
        "else:\n",
        "    ax0 = switch_to_outer_plot(fig)\n",
        "    ax0.set_xlabel(x_label, labelpad=40)\n",
        "    ax0.set_ylabel(y_label, labelpad=35)\n",
        "\n",
        "plt.tight_layout()\n",
        "\n",
        "plt.savefig(path + '.pdf')"
      ],
      "execution_count": null,
      "outputs": [
        {
          "output_type": "stream",
          "text": [
            "loading results from fruitbot...\n",
            "loading results from fruitbot...\n"
          ],
          "name": "stdout"
        },
        {
          "output_type": "stream",
          "text": [
            "/usr/local/lib/python3.7/dist-packages/numpy/core/_methods.py:234: RuntimeWarning: Degrees of freedom <= 0 for slice\n",
            "  keepdims=keepdims)\n",
            "/usr/local/lib/python3.7/dist-packages/numpy/core/_methods.py:224: RuntimeWarning: invalid value encountered in true_divide\n",
            "  ret, rcount, out=ret, casting='unsafe', subok=False)\n",
            "/usr/local/lib/python3.7/dist-packages/numpy/core/_methods.py:234: RuntimeWarning: Degrees of freedom <= 0 for slice\n",
            "  keepdims=keepdims)\n",
            "/usr/local/lib/python3.7/dist-packages/numpy/core/_methods.py:224: RuntimeWarning: invalid value encountered in true_divide\n",
            "  ret, rcount, out=ret, casting='unsafe', subok=False)\n"
          ],
          "name": "stderr"
        },
        {
          "output_type": "display_data",
          "data": {
            "image/png": "[encoded data removed]",
            "text/plain": [
              "<Figure size 648x648 with 2 Axes>"
            ]
          },
          "metadata": {
            "tags": [],
            "needs_background": "light"
          }
        }
      ]
    },
    {
      "cell_type": "code",
      "metadata": {
        "id": "WtnLOIuJyT3G"
      },
      "source": [
        ""
      ],
      "execution_count": null,
      "outputs": []
    }
  ]
}